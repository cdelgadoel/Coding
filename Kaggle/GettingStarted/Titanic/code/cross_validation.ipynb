{
 "cells": [
  {
   "cell_type": "code",
   "execution_count": 21,
   "metadata": {},
   "outputs": [],
   "source": [
    "import pandas as pd\n",
    "import matplotlib.pyplot as plt\n",
    "import seaborn as sns\n",
    "import re\n",
    "import numpy as np\n",
    "from scipy import stats\n",
    "from sklearn.ensemble import RandomForestClassifier\n",
    "from sklearn.model_selection import cross_val_score, StratifiedKFold"
   ]
  },
  {
   "cell_type": "code",
   "execution_count": 22,
   "metadata": {},
   "outputs": [
    {
     "name": "stdout",
     "output_type": "stream",
     "text": [
      "<class 'pandas.core.frame.DataFrame'>\n",
      "RangeIndex: 891 entries, 0 to 890\n",
      "Data columns (total 8 columns):\n",
      " #   Column    Non-Null Count  Dtype  \n",
      "---  ------    --------------  -----  \n",
      " 0   Survived  891 non-null    int64  \n",
      " 1   Pclass    891 non-null    int64  \n",
      " 2   Sex       891 non-null    object \n",
      " 3   Age       714 non-null    float64\n",
      " 4   SibSp     891 non-null    int64  \n",
      " 5   Parch     891 non-null    int64  \n",
      " 6   Fare      891 non-null    float64\n",
      " 7   Cabin     204 non-null    object \n",
      "dtypes: float64(2), int64(4), object(2)\n",
      "memory usage: 55.8+ KB\n",
      "None\n",
      "          count unique      top freq       mean        std   min     25%  \\\n",
      "Survived  891.0    NaN      NaN  NaN   0.383838   0.486592   0.0     0.0   \n",
      "Pclass    891.0    NaN      NaN  NaN   2.308642   0.836071   1.0     2.0   \n",
      "Sex         891      2     male  577        NaN        NaN   NaN     NaN   \n",
      "Age       714.0    NaN      NaN  NaN  29.699118  14.526497  0.42  20.125   \n",
      "SibSp     891.0    NaN      NaN  NaN   0.523008   1.102743   0.0     0.0   \n",
      "Parch     891.0    NaN      NaN  NaN   0.381594   0.806057   0.0     0.0   \n",
      "Fare      891.0    NaN      NaN  NaN  32.204208  49.693429   0.0  7.9104   \n",
      "Cabin       204    147  B96 B98    4        NaN        NaN   NaN     NaN   \n",
      "\n",
      "              50%   75%       max  \n",
      "Survived      0.0   1.0       1.0  \n",
      "Pclass        3.0   3.0       3.0  \n",
      "Sex           NaN   NaN       NaN  \n",
      "Age          28.0  38.0      80.0  \n",
      "SibSp         0.0   1.0       8.0  \n",
      "Parch         0.0   0.0       6.0  \n",
      "Fare      14.4542  31.0  512.3292  \n",
      "Cabin         NaN   NaN       NaN  \n"
     ]
    }
   ],
   "source": [
    "df = pd.read_csv(\"../data/train.csv\")\n",
    "df.drop('Name', axis=1, inplace=True)\n",
    "df.drop('PassengerId', axis=1, inplace=True)\n",
    "df.drop('Ticket', axis=1, inplace=True)\n",
    "df.drop('Embarked', axis=1, inplace=True)\n",
    "\n",
    "\n",
    "print(df.info())\n",
    "print(df.describe(include='all').T)"
   ]
  },
  {
   "cell_type": "code",
   "execution_count": 23,
   "metadata": {},
   "outputs": [],
   "source": [
    "df['Sex'] = df['Sex'].map({'male': 0, 'female': 1})\n",
    "#df['Embarked'] = df['Embarked'].map({'C': 1, 'Q': 2, 'S': 3})"
   ]
  },
  {
   "cell_type": "code",
   "execution_count": 24,
   "metadata": {},
   "outputs": [],
   "source": [
    "# Define features and target\n",
    "features = ['Pclass', 'Sex', 'SibSp', 'Parch', 'Fare', 'Age', 'Cabin']\n",
    "X = df[features]\n",
    "y = df['Survived']"
   ]
  },
  {
   "cell_type": "code",
   "execution_count": 25,
   "metadata": {},
   "outputs": [],
   "source": [
    "\n",
    "def add_cabin_info_columns(df2):\n",
    "    df_copy = df2.copy()  # Create a copy to avoid modifying the original DataFrame\n",
    "\n",
    "    def extract_cabin_info(cabin):\n",
    "        if pd.isna(cabin) or cabin == '':\n",
    "            return 0, 'N'  # No cabin info\n",
    "        cabins = cabin.split()\n",
    "        count = len(cabins)\n",
    "        first_cabin = cabins[0]  # First cabin assignment\n",
    "        match = re.match(r'([A-G])\\d+', first_cabin)  # Only A-G allowed\n",
    "        if match:\n",
    "            letter = match.groups()[0]\n",
    "            return count, letter\n",
    "        return count, 'N'\n",
    "\n",
    "    # Apply transformation and expand into new columns\n",
    "    df_copy[['cabin_count', 'cabin_letter']] = df_copy['Cabin'].apply(\n",
    "        lambda x: pd.Series(extract_cabin_info(x))\n",
    "    )\n",
    "\n",
    "    # Drop original 'Cabin' column\n",
    "    df_copy.drop('Cabin', axis=1, inplace=True)\n",
    "\n",
    "    # Encode `cabin_letter` as numerical values\n",
    "    cabin_mapping = {'A': 0, 'B': 1, 'C': 2, 'D': 3, 'E': 4, 'F': 5, 'G': 6, 'N': 7}\n",
    "    df_copy['cabin_letter'] = df_copy['cabin_letter'].map(cabin_mapping).astype(int)\n",
    "\n",
    "    return df_copy"
   ]
  },
  {
   "cell_type": "code",
   "execution_count": 26,
   "metadata": {},
   "outputs": [
    {
     "name": "stdout",
     "output_type": "stream",
     "text": [
      "Cross-Validation Results:\n",
      "Ignore Age & drop Cabin: 0.8096\n",
      "Drop Cabin, Impute Age: 0.7991\n",
      "Ignore Age missing, impute Cabin: 0.7983\n",
      "Impute Age & Cabin: 0.8047\n",
      "Drop Age & Cabin: 0.7991\n",
      "Drop Age & Impute Cabin: 0.8013\n"
     ]
    }
   ],
   "source": [
    "# Create cross-validation object\n",
    "cv = StratifiedKFold(n_splits=5, shuffle=True, random_state=42)\n",
    "\n",
    "# Store model results\n",
    "model_results = {}\n",
    "\n",
    "# **Model 1: Drop Rows with Missing Age & drops column \"Cabin\"**\n",
    "X1 = X.drop(columns=['Cabin'])\n",
    "X1 = X1.dropna()\n",
    "y1 = y[X1.index]  # Align target variable\n",
    "rf1 = RandomForestClassifier(random_state=42)\n",
    "scores1 = cross_val_score(rf1, X1, y1, cv=cv, scoring='accuracy')\n",
    "model_results['Ignore Age & drop Cabin'] = scores1.mean()\n",
    "\n",
    "# **Model 2: Drop Cabin, Impute Age**\n",
    "X2 = X.drop(columns=['Cabin'])\n",
    "X2['Age'] = X2.groupby(['Pclass', 'Sex'])['Age'].transform('median')  # Corrected Imputation\n",
    "y2 = y\n",
    "rf2 = RandomForestClassifier(random_state=42)\n",
    "scores2 = cross_val_score(rf2, X2, y2, cv=cv, scoring='accuracy')\n",
    "model_results['Drop Cabin, Impute Age'] = scores2.mean()\n",
    "\n",
    "# **Model 3: Drop Age missing values, \"Impute\" Cabin**\n",
    "X3 = X.copy()\n",
    "X3 = add_cabin_info_columns(X3)\n",
    "X3 = X3.dropna()\n",
    "y3 = y.loc[X3.index] \n",
    "rf3 = RandomForestClassifier(random_state=42)\n",
    "scores3 = cross_val_score(rf3, X3, y3, cv=cv, scoring='accuracy')\n",
    "model_results['Ignore Age missing, impute Cabin'] = scores3.mean()\n",
    "\n",
    "# **Model 4: Impute Age & Cabin**\n",
    "X4 = X.copy()\n",
    "X4['Age'] = X4.groupby(['Pclass', 'Sex'])['Age'].transform('median')  # Corrected Imputation\n",
    "X4 = add_cabin_info_columns(X4)\n",
    "y4 = y\n",
    "rf4 = RandomForestClassifier(random_state=42)\n",
    "scores4 = cross_val_score(rf4, X4, y4, cv=cv, scoring='accuracy')\n",
    "model_results['Impute Age & Cabin'] = scores4.mean()\n",
    "\n",
    "# **Model 5: Drop Age & Cabin**\n",
    "X5 = X.drop(columns=['Age', 'Cabin'])\n",
    "y5 = y\n",
    "rf5 = RandomForestClassifier(random_state=42)\n",
    "scores5 = cross_val_score(rf5, X5, y5, cv=cv, scoring='accuracy')\n",
    "model_results['Drop Age & Cabin'] = scores5.mean()\n",
    "\n",
    "# **Model 6: Drop Age & Impute Cabin**\n",
    "X6= X.drop(columns=['Age'])\n",
    "X6 = add_cabin_info_columns(X6)\n",
    "y6 = y\n",
    "rf6 = RandomForestClassifier(random_state=42)\n",
    "scores6 = cross_val_score(rf6, X6, y6, cv=cv, scoring='accuracy')\n",
    "model_results['Drop Age & Impute Cabin'] = scores6.mean()\n",
    "\n",
    "# **Print Results**\n",
    "print(\"Cross-Validation Results:\")\n",
    "for model, score in model_results.items():\n",
    "    print(f\"{model}: {score:.4f}\")\n"
   ]
  }
 ],
 "metadata": {
  "kernelspec": {
   "display_name": "3.10.7",
   "language": "python",
   "name": "python3"
  },
  "language_info": {
   "codemirror_mode": {
    "name": "ipython",
    "version": 3
   },
   "file_extension": ".py",
   "mimetype": "text/x-python",
   "name": "python",
   "nbconvert_exporter": "python",
   "pygments_lexer": "ipython3",
   "version": "3.10.7"
  }
 },
 "nbformat": 4,
 "nbformat_minor": 2
}
